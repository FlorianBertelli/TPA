{
 "cells": [
  {
   "cell_type": "code",
   "execution_count": 1,
   "metadata": {},
   "outputs": [],
   "source": [
    "import re\n",
    "import csv\n",
    "import torch as th\n",
    "import torch.nn as nn\n",
    "import torch.nn.functional as F\n",
    "from torch.utils.data import TensorDataset, DataLoader\n",
    "import numpy as np\n",
    "#import nltk\n",
    "from collections import Counter \n",
    "import matplotlib.pyplot as plt"
   ]
  },
  {
   "cell_type": "markdown",
   "metadata": {},
   "source": [
    "# On génère les série temporelle"
   ]
  },
  {
   "cell_type": "code",
   "execution_count": 2,
   "metadata": {},
   "outputs": [],
   "source": [
    "def generate_first_type_time_series(i):\n",
    "    return np.array([np.sin(np.divide(2*np.pi*i*t, 64)) for t in range(127)])"
   ]
  },
  {
   "cell_type": "code",
   "execution_count": 10,
   "metadata": {},
   "outputs": [],
   "source": [
    "def generate_second_type_time_series(D,i): #i supposed to be in range(D), D>1\n",
    "    fst_type = generate_first_type_time_series(i)\n",
    "    result = []\n",
    "    frac = 1/(D-1)\n",
    "    \n",
    "    result = []\n",
    "    for t in range(127):\n",
    "        fst = fst_type[t-1]\n",
    "        snd=frac*np.sum(np.delete(fst_type[t-1], i-1, axis=0))\n",
    "        result.append(fst+snd)\n",
    "        \n",
    "    return fst_type, np.array(result)"
   ]
  },
  {
   "cell_type": "code",
   "execution_count": 57,
   "metadata": {},
   "outputs": [],
   "source": [
    "def get_training_data(D):\n",
    "    data_1 = [[],[],[],[],[],[]]\n",
    "    labels_1 = [[],[],[],[],[],[]]\n",
    "    data_2 = [[],[],[],[],[],[]]\n",
    "    labels_2 = [[],[],[],[],[],[]]\n",
    "    for i in range(64):\n",
    "        fst_series, snd_series = generate_second_type_time_series(D,i)\n",
    "        print(fst_series.shape)\n",
    "        print(snd_series.shape)\n",
    "        print('-'*10)\n",
    "        print('-'*10)\n",
    "        if(i>0):\n",
    "            for k in range(D):\n",
    "                labels_1[k].append(fst_series[k][0])\n",
    "                labels_2[k].append(snd_series[k][0])\n",
    "            \n",
    "        for k in range(D):\n",
    "            data_1[k].append(fst_series[k])\n",
    "            data_2[k].append(snd_series[k])\n",
    "        \n",
    "    for k in range(D):\n",
    "            data_1[k].append(fst_series[k])\n",
    "            data_2[k].append(snd_series[k])\n",
    "            \n",
    "    return np.array(data_1),np.array(labels_1), np.array(data_2), np.array(labels_2)"
   ]
  },
  {
   "cell_type": "code",
   "execution_count": 58,
   "metadata": {},
   "outputs": [
    {
     "name": "stdout",
     "output_type": "stream",
     "text": [
      "(6, 64)\n",
      "(6, 64)\n",
      "----------\n",
      "----------\n",
      "(6, 64)\n",
      "(6, 64)\n",
      "----------\n",
      "----------\n"
     ]
    },
    {
     "ename": "IndexError",
     "evalue": "index 64 is out of bounds for axis 1 with size 64",
     "output_type": "error",
     "traceback": [
      "\u001b[1;31m---------------------------------------------------------------------------\u001b[0m",
      "\u001b[1;31mIndexError\u001b[0m                                Traceback (most recent call last)",
      "\u001b[1;32m<ipython-input-58-0a3f02a80c42>\u001b[0m in \u001b[0;36m<module>\u001b[1;34m\u001b[0m\n\u001b[1;32m----> 1\u001b[1;33m \u001b[0mtrain_data_1\u001b[0m\u001b[1;33m,\u001b[0m \u001b[0mtrain_labels_1\u001b[0m\u001b[1;33m,\u001b[0m \u001b[0mtrain_data_2\u001b[0m\u001b[1;33m,\u001b[0m \u001b[0mtrain_labels_2\u001b[0m  \u001b[1;33m=\u001b[0m \u001b[0mget_training_data\u001b[0m\u001b[1;33m(\u001b[0m\u001b[1;36m6\u001b[0m\u001b[1;33m)\u001b[0m\u001b[1;33m\u001b[0m\u001b[1;33m\u001b[0m\u001b[0m\n\u001b[0m",
      "\u001b[1;32m<ipython-input-57-cd461a117ab1>\u001b[0m in \u001b[0;36mget_training_data\u001b[1;34m(D)\u001b[0m\n\u001b[0;32m      5\u001b[0m     \u001b[0mlabels_2\u001b[0m \u001b[1;33m=\u001b[0m \u001b[1;33m[\u001b[0m\u001b[1;33m[\u001b[0m\u001b[1;33m]\u001b[0m\u001b[1;33m,\u001b[0m\u001b[1;33m[\u001b[0m\u001b[1;33m]\u001b[0m\u001b[1;33m,\u001b[0m\u001b[1;33m[\u001b[0m\u001b[1;33m]\u001b[0m\u001b[1;33m,\u001b[0m\u001b[1;33m[\u001b[0m\u001b[1;33m]\u001b[0m\u001b[1;33m,\u001b[0m\u001b[1;33m[\u001b[0m\u001b[1;33m]\u001b[0m\u001b[1;33m,\u001b[0m\u001b[1;33m[\u001b[0m\u001b[1;33m]\u001b[0m\u001b[1;33m]\u001b[0m\u001b[1;33m\u001b[0m\u001b[1;33m\u001b[0m\u001b[0m\n\u001b[0;32m      6\u001b[0m     \u001b[1;32mfor\u001b[0m \u001b[0mi\u001b[0m \u001b[1;32min\u001b[0m \u001b[0mrange\u001b[0m\u001b[1;33m(\u001b[0m\u001b[1;36m64\u001b[0m\u001b[1;33m)\u001b[0m\u001b[1;33m:\u001b[0m\u001b[1;33m\u001b[0m\u001b[1;33m\u001b[0m\u001b[0m\n\u001b[1;32m----> 7\u001b[1;33m         \u001b[0mfst_series\u001b[0m\u001b[1;33m,\u001b[0m \u001b[0msnd_series\u001b[0m \u001b[1;33m=\u001b[0m \u001b[0mgenerate_second_type_time_series\u001b[0m\u001b[1;33m(\u001b[0m\u001b[0mD\u001b[0m\u001b[1;33m,\u001b[0m\u001b[0mi\u001b[0m\u001b[1;33m)\u001b[0m\u001b[1;33m\u001b[0m\u001b[1;33m\u001b[0m\u001b[0m\n\u001b[0m\u001b[0;32m      8\u001b[0m         \u001b[0mprint\u001b[0m\u001b[1;33m(\u001b[0m\u001b[0mfst_series\u001b[0m\u001b[1;33m.\u001b[0m\u001b[0mshape\u001b[0m\u001b[1;33m)\u001b[0m\u001b[1;33m\u001b[0m\u001b[1;33m\u001b[0m\u001b[0m\n\u001b[0;32m      9\u001b[0m         \u001b[0mprint\u001b[0m\u001b[1;33m(\u001b[0m\u001b[0msnd_series\u001b[0m\u001b[1;33m.\u001b[0m\u001b[0mshape\u001b[0m\u001b[1;33m)\u001b[0m\u001b[1;33m\u001b[0m\u001b[1;33m\u001b[0m\u001b[0m\n",
      "\u001b[1;32m<ipython-input-56-ddb156c107fc>\u001b[0m in \u001b[0;36mgenerate_second_type_time_series\u001b[1;34m(nb_series, start)\u001b[0m\n\u001b[0;32m      6\u001b[0m         \u001b[0mloc\u001b[0m \u001b[1;33m=\u001b[0m \u001b[1;33m[\u001b[0m\u001b[1;33m]\u001b[0m\u001b[1;33m\u001b[0m\u001b[1;33m\u001b[0m\u001b[0m\n\u001b[0;32m      7\u001b[0m         \u001b[1;32mfor\u001b[0m \u001b[0mt\u001b[0m \u001b[1;32min\u001b[0m \u001b[0mrange\u001b[0m\u001b[1;33m(\u001b[0m\u001b[0mstart\u001b[0m\u001b[1;33m,\u001b[0m\u001b[0mstart\u001b[0m\u001b[1;33m+\u001b[0m\u001b[1;36m64\u001b[0m\u001b[1;33m)\u001b[0m\u001b[1;33m:\u001b[0m\u001b[1;33m\u001b[0m\u001b[1;33m\u001b[0m\u001b[0m\n\u001b[1;32m----> 8\u001b[1;33m             \u001b[0mfst\u001b[0m \u001b[1;33m=\u001b[0m \u001b[0mfst_type\u001b[0m\u001b[1;33m[\u001b[0m\u001b[0mi\u001b[0m\u001b[1;33m-\u001b[0m\u001b[1;36m1\u001b[0m\u001b[1;33m,\u001b[0m\u001b[0mt\u001b[0m\u001b[1;33m-\u001b[0m\u001b[1;36m1\u001b[0m\u001b[1;33m]\u001b[0m\u001b[1;33m\u001b[0m\u001b[1;33m\u001b[0m\u001b[0m\n\u001b[0m\u001b[0;32m      9\u001b[0m             \u001b[0msnd\u001b[0m\u001b[1;33m=\u001b[0m\u001b[0mfrac\u001b[0m\u001b[1;33m*\u001b[0m\u001b[0mnp\u001b[0m\u001b[1;33m.\u001b[0m\u001b[0msum\u001b[0m\u001b[1;33m(\u001b[0m\u001b[0mnp\u001b[0m\u001b[1;33m.\u001b[0m\u001b[0mdelete\u001b[0m\u001b[1;33m(\u001b[0m\u001b[0mfst_type\u001b[0m\u001b[1;33m[\u001b[0m\u001b[1;33m:\u001b[0m\u001b[1;33m,\u001b[0m\u001b[0mt\u001b[0m\u001b[1;33m-\u001b[0m\u001b[1;36m1\u001b[0m\u001b[1;33m]\u001b[0m\u001b[1;33m,\u001b[0m \u001b[0mi\u001b[0m\u001b[1;33m-\u001b[0m\u001b[1;36m1\u001b[0m\u001b[1;33m,\u001b[0m \u001b[0maxis\u001b[0m\u001b[1;33m=\u001b[0m\u001b[1;36m0\u001b[0m\u001b[1;33m)\u001b[0m\u001b[1;33m)\u001b[0m\u001b[1;33m\u001b[0m\u001b[1;33m\u001b[0m\u001b[0m\n\u001b[0;32m     10\u001b[0m             \u001b[0mloc\u001b[0m\u001b[1;33m.\u001b[0m\u001b[0mappend\u001b[0m\u001b[1;33m(\u001b[0m\u001b[0mfst\u001b[0m\u001b[1;33m+\u001b[0m\u001b[0msnd\u001b[0m\u001b[1;33m)\u001b[0m\u001b[1;33m\u001b[0m\u001b[1;33m\u001b[0m\u001b[0m\n",
      "\u001b[1;31mIndexError\u001b[0m: index 64 is out of bounds for axis 1 with size 64"
     ]
    }
   ],
   "source": [
    "train_data_1, train_labels_1, train_data_2, train_labels_2  = get_training_data(6)"
   ]
  },
  {
   "cell_type": "code",
   "execution_count": 34,
   "metadata": {},
   "outputs": [
    {
     "name": "stdout",
     "output_type": "stream",
     "text": [
      "(6, 63, 64)\n",
      "(6, 62)\n",
      "(6, 63)\n"
     ]
    }
   ],
   "source": [
    "print(train_data_1.shape)\n",
    "print(train_labels_1.shape)\n",
    "print(train_data_2.shape)"
   ]
  },
  {
   "cell_type": "code",
   "execution_count": 11,
   "metadata": {},
   "outputs": [
    {
     "name": "stderr",
     "output_type": "stream",
     "text": [
      "C:\\Users\\tbabi\\Anaconda3\\lib\\site-packages\\ipykernel_launcher.py:9: DeprecationWarning: in the future the special handling of scalars will be removed from delete and raise an error\n",
      "  if __name__ == '__main__':\n"
     ]
    }
   ],
   "source": [
    "fst_series = generate_first_type_time_series(2)\n",
    "_,snd_series = generate_second_type_time_series(6,2)"
   ]
  },
  {
   "cell_type": "markdown",
   "metadata": {},
   "source": [
    "## 2e série pas bonne"
   ]
  },
  {
   "cell_type": "code",
   "execution_count": 16,
   "metadata": {},
   "outputs": [
    {
     "name": "stdout",
     "output_type": "stream",
     "text": [
      "127\n",
      "127\n"
     ]
    },
    {
     "data": {
      "image/png": "[encoded data removed]",
      "text/plain": [
       "<Figure size 432x288 with 1 Axes>"
      ]
     },
     "metadata": {
      "needs_background": "light"
     },
     "output_type": "display_data"
    },
    {
     "data": {
      "image/png": "[encoded data removed]",
      "text/plain": [
       "<Figure size 432x288 with 1 Axes>"
      ]
     },
     "metadata": {
      "needs_background": "light"
     },
     "output_type": "display_data"
    }
   ],
   "source": [
    "print(len(fst_series))\n",
    "print(len(snd_series))\n",
    "plt.plot(fst_series)\n",
    "plt.plot([0 for i in range(127)])\n",
    "plt.show()\n",
    "\n",
    "plt.plot(snd_series)\n",
    "plt.plot([0 for i in range(127)])\n",
    "plt.show()\n"
   ]
  },
  {
   "cell_type": "code",
   "execution_count": 6,
   "metadata": {},
   "outputs": [],
   "source": [
    "class GRU_forecaster(nn.Module):\n",
    "    def __init__(self, nb_cells, hidden_size, input_size, rnn_dropout, window_size, bidirectional=False):\n",
    "        super(GRU_forecaster, self).__init__()\n",
    "        \n",
    "        self.nb_cells = nb_cells\n",
    "        self.hidden_size = hidden_size\n",
    "        self.input_size = input_size\n",
    "        self.is_bidirectional = bidirectional\n",
    "        \n",
    "        self.gru = nn.GRU(input_size, hidden_size, nb_cells, batch_first = True, dropout=rnn_dropout,bidirectional=bidirectional)\n",
    "\n",
    "        if bidirectional:    \n",
    "            self.fc = nn.Linear(2*hidden_size, 1)\n",
    "        else:\n",
    "            self.fc = nn.Linear(hidden_size, 1)\n",
    "        \n",
    "        ###Par rapport au papier, k=nbr de filtres et m=hidden size\n",
    "        self.convList = nn.ModuleList([nn.Conv1d(1,1,window_size-1) for i in range(32)])#32 fixed in the paper\n",
    "\n",
    "        self.Wa = nn.Linear(hidden_size, 32)\n",
    "        self.Wh = nn.Linear(hidden_size, hidden_size)\n",
    "        self.Wv = nn.Linear(32, hidden_size)\n",
    "        self.Whp = nn.Linear(hidden_size, 1)\n",
    "        \n",
    "        self.sigmoid = nn.Sigmoid()\n",
    "        \n",
    "        nn.init.xavier_uniform_(self.fc.weight.data)  # Xavier/Glorot init for tanh\n",
    "        nn.init.zeros_(self.fc.bias.data)  # Xavier/Glorot init for tanh\n",
    "        \n",
    "            \n",
    "    \n",
    "    def forward(self, inputs, h0):\n",
    "        batch_size = inputs.size(0)\n",
    "        rnn_out, _ = self.gru(inputs, h0)\n",
    "        hidden = rnn_out.transpose(1,2)[:,:,:-1]\n",
    "        last_h = rnn_out[0,-1]\n",
    "        hc = th.Tensor() #size m*k\n",
    "        #l_out = self.getNbFeatures()\n",
    "        \n",
    "        for conv in self.convList:\n",
    "            t = th.Tensor()\n",
    "            for h in hidden[0]:\n",
    "                h=h.view(1,1,-1)\n",
    "                x = conv(h)\n",
    "                t=th.cat([t,x],0)\n",
    "            t = t.view(-1,1)\n",
    "            hc=th.cat([hc,t],1)\n",
    "        \n",
    "        attention_weights = self.Wa(last_h).view(-1,1)\n",
    "        attention_weights = (hc@attention_weights)\n",
    "        attention_weights = self.sigmoid(attention_weights)\n",
    "        \n",
    "        \n",
    "        vt = (attention_weights*hc).sum(dim=0) #ai * Hci\n",
    "        \n",
    "        \n",
    "        hp = self.Wv(vt)+self.Wh(last_h)\n",
    "        out = self.Whp(hp)\n",
    "        return hp\n",
    "    \n",
    "    def init_hidden(self, batch_size):\n",
    "        weight = next(self.parameters()).data\n",
    "        #hidden = th.Tensor(self.nb_cells, batch_size, self.hidden_size)\n",
    "        if self.is_bidirectional:\n",
    "            hidden = weight.new(2*self.nb_cells, batch_size, self.hidden_size).zero_()\n",
    "        else:\n",
    "            hidden = weight.new(self.nb_cells, batch_size, self.hidden_size).zero_()\n",
    "        return hidden\n",
    "    "
   ]
  },
  {
   "cell_type": "code",
   "execution_count": 7,
   "metadata": {},
   "outputs": [],
   "source": [
    "nb_cells=1\n",
    "hidden_size=20\n",
    "input_size=1\n",
    "gru=GRU_forecaster(nb_cells,hidden_size, input_size, 0.0,64)\n",
    "h0 = gru.init_hidden(1)"
   ]
  },
  {
   "cell_type": "code",
   "execution_count": 8,
   "metadata": {
    "scrolled": true
   },
   "outputs": [
    {
     "name": "stdout",
     "output_type": "stream",
     "text": [
      "hc : torch.Size([20, 32])\n",
      "hc_t : torch.Size([32, 20])\n",
      "attention_weights 1 torch.Size([32, 1])\n",
      "attention_weights 2 torch.Size([20, 1])\n",
      "attention_weights 3 torch.Size([20, 1])\n",
      "vt :  torch.Size([32])\n"
     ]
    },
    {
     "data": {
      "text/plain": [
       "tensor([-0.0964, -0.1288, -0.5764, -0.8875, -0.0805,  0.5419, -0.1416,  0.3580,\n",
       "        -0.2193, -0.8518,  0.0642,  0.3223,  0.3117,  0.3337, -0.6542,  0.2198,\n",
       "         0.5373, -0.1226,  0.2442, -0.3555], grad_fn=<AddBackward0>)"
      ]
     },
     "execution_count": 8,
     "metadata": {},
     "output_type": "execute_result"
    }
   ],
   "source": [
    "x = th.from_numpy(fst_series[0]).view(1,-1,1).float()\n",
    "h0=th\n",
    "#print(x.shape)\n",
    "gru(x, None)"
   ]
  },
  {
   "cell_type": "markdown",
   "metadata": {},
   "source": [
    "# test de trucs"
   ]
  },
  {
   "cell_type": "code",
   "execution_count": 12,
   "metadata": {},
   "outputs": [],
   "source": [
    "convList = nn.ModuleList([nn.Conv1d(1,1,4) for i in range(19)])\n",
    "gru = nn.GRU(2,20,1)\n",
    "weight = next(gru.parameters()).data\n",
    "h0 = weight.new(1, 64, 20).zero_()\n",
    "\n",
    "x = th.rand(1,64,2)\n",
    "y_t,h=gru(x,h0)"
   ]
  },
  {
   "cell_type": "code",
   "execution_count": 13,
   "metadata": {},
   "outputs": [
    {
     "name": "stdout",
     "output_type": "stream",
     "text": [
      "torch.Size([1, 64, 20])\n",
      "torch.Size([1, 64, 20])\n"
     ]
    }
   ],
   "source": [
    "tensor = th.rand(1,19,64)\n",
    "print(y_t.shape)\n",
    "print(h.shape)"
   ]
  },
  {
   "cell_type": "code",
   "execution_count": 192,
   "metadata": {},
   "outputs": [
    {
     "name": "stdout",
     "output_type": "stream",
     "text": [
      "0\n",
      "torch.Size([17, 1])\n",
      "1\n",
      "torch.Size([17, 1])\n",
      "2\n",
      "torch.Size([17, 1])\n",
      "3\n",
      "torch.Size([17, 1])\n",
      "4\n",
      "torch.Size([17, 1])\n",
      "5\n",
      "torch.Size([17, 1])\n",
      "6\n",
      "torch.Size([17, 1])\n",
      "7\n",
      "torch.Size([17, 1])\n",
      "8\n",
      "torch.Size([17, 1])\n",
      "9\n",
      "torch.Size([17, 1])\n",
      "10\n",
      "torch.Size([17, 1])\n",
      "11\n",
      "torch.Size([17, 1])\n",
      "12\n",
      "torch.Size([17, 1])\n",
      "13\n",
      "torch.Size([17, 1])\n",
      "14\n",
      "torch.Size([17, 1])\n",
      "15\n",
      "torch.Size([17, 1])\n",
      "16\n",
      "torch.Size([17, 1])\n",
      "17\n",
      "torch.Size([17, 1])\n",
      "18\n",
      "torch.Size([17, 1])\n"
     ]
    }
   ],
   "source": [
    "s = []\n",
    "i=0\n",
    "z = th.Tensor()\n",
    "for conv, t in zip(convList, y_t[0,:-1,]):\n",
    "    print(i)\n",
    "    i+=1\n",
    "    t = t.view(1,1,-1)\n",
    "    x=conv(t).view(17,-1)\n",
    "    print(x.shape)\n",
    "    z=th.cat([z,x],1)"
   ]
  },
  {
   "cell_type": "code",
   "execution_count": 193,
   "metadata": {},
   "outputs": [
    {
     "data": {
      "text/plain": [
       "torch.Size([17, 19])"
      ]
     },
     "execution_count": 193,
     "metadata": {},
     "output_type": "execute_result"
    }
   ],
   "source": [
    "z.shape"
   ]
  },
  {
   "cell_type": "code",
   "execution_count": 203,
   "metadata": {},
   "outputs": [
    {
     "name": "stdout",
     "output_type": "stream",
     "text": [
      "tensor([[0],\n",
      "        [1],\n",
      "        [2],\n",
      "        [3],\n",
      "        [4],\n",
      "        [5],\n",
      "        [6],\n",
      "        [7],\n",
      "        [8],\n",
      "        [9]]) tensor([[10],\n",
      "        [11],\n",
      "        [12],\n",
      "        [13],\n",
      "        [14],\n",
      "        [15],\n",
      "        [16],\n",
      "        [17],\n",
      "        [18],\n",
      "        [19]])\n"
     ]
    }
   ],
   "source": [
    "x = th.arange(10).view(10,-1)\n",
    "y=th.arange(10,20).view(10,-1)\n",
    "print(x,y)"
   ]
  },
  {
   "cell_type": "code",
   "execution_count": 191,
   "metadata": {},
   "outputs": [
    {
     "name": "stdout",
     "output_type": "stream",
     "text": [
      "tensor([[ 0, 10],\n",
      "        [ 1, 11],\n",
      "        [ 2, 12],\n",
      "        [ 3, 13],\n",
      "        [ 4, 14],\n",
      "        [ 5, 15],\n",
      "        [ 6, 16],\n",
      "        [ 7, 17],\n",
      "        [ 8, 18],\n",
      "        [ 9, 19]])\n",
      "torch.Size([10, 2])\n"
     ]
    }
   ],
   "source": [
    "z=th.cat([x,y],1)\n",
    "print(z)\n",
    "print(z.shape)"
   ]
  },
  {
   "cell_type": "code",
   "execution_count": 198,
   "metadata": {},
   "outputs": [
    {
     "name": "stdout",
     "output_type": "stream",
     "text": [
      "(0,)\n"
     ]
    }
   ],
   "source": [
    "print(convList[0].padding)"
   ]
  },
  {
   "cell_type": "code",
   "execution_count": 58,
   "metadata": {},
   "outputs": [],
   "source": [
    "f = th.ones(20,32)\n",
    "f2 = th.Tensor([[i] for i in range(20)])"
   ]
  },
  {
   "cell_type": "code",
   "execution_count": 60,
   "metadata": {},
   "outputs": [
    {
     "name": "stdout",
     "output_type": "stream",
     "text": [
      "torch.Size([20, 1])\n",
      "tensor([[ 0.,  0.,  0.,  0.,  0.,  0.,  0.,  0.,  0.,  0.,  0.,  0.,  0.,  0.,\n",
      "          0.,  0.,  0.,  0.,  0.,  0.,  0.,  0.,  0.,  0.,  0.,  0.,  0.,  0.,\n",
      "          0.,  0.,  0.,  0.],\n",
      "        [ 1.,  1.,  1.,  1.,  1.,  1.,  1.,  1.,  1.,  1.,  1.,  1.,  1.,  1.,\n",
      "          1.,  1.,  1.,  1.,  1.,  1.,  1.,  1.,  1.,  1.,  1.,  1.,  1.,  1.,\n",
      "          1.,  1.,  1.,  1.],\n",
      "        [ 2.,  2.,  2.,  2.,  2.,  2.,  2.,  2.,  2.,  2.,  2.,  2.,  2.,  2.,\n",
      "          2.,  2.,  2.,  2.,  2.,  2.,  2.,  2.,  2.,  2.,  2.,  2.,  2.,  2.,\n",
      "          2.,  2.,  2.,  2.],\n",
      "        [ 3.,  3.,  3.,  3.,  3.,  3.,  3.,  3.,  3.,  3.,  3.,  3.,  3.,  3.,\n",
      "          3.,  3.,  3.,  3.,  3.,  3.,  3.,  3.,  3.,  3.,  3.,  3.,  3.,  3.,\n",
      "          3.,  3.,  3.,  3.],\n",
      "        [ 4.,  4.,  4.,  4.,  4.,  4.,  4.,  4.,  4.,  4.,  4.,  4.,  4.,  4.,\n",
      "          4.,  4.,  4.,  4.,  4.,  4.,  4.,  4.,  4.,  4.,  4.,  4.,  4.,  4.,\n",
      "          4.,  4.,  4.,  4.],\n",
      "        [ 5.,  5.,  5.,  5.,  5.,  5.,  5.,  5.,  5.,  5.,  5.,  5.,  5.,  5.,\n",
      "          5.,  5.,  5.,  5.,  5.,  5.,  5.,  5.,  5.,  5.,  5.,  5.,  5.,  5.,\n",
      "          5.,  5.,  5.,  5.],\n",
      "        [ 6.,  6.,  6.,  6.,  6.,  6.,  6.,  6.,  6.,  6.,  6.,  6.,  6.,  6.,\n",
      "          6.,  6.,  6.,  6.,  6.,  6.,  6.,  6.,  6.,  6.,  6.,  6.,  6.,  6.,\n",
      "          6.,  6.,  6.,  6.],\n",
      "        [ 7.,  7.,  7.,  7.,  7.,  7.,  7.,  7.,  7.,  7.,  7.,  7.,  7.,  7.,\n",
      "          7.,  7.,  7.,  7.,  7.,  7.,  7.,  7.,  7.,  7.,  7.,  7.,  7.,  7.,\n",
      "          7.,  7.,  7.,  7.],\n",
      "        [ 8.,  8.,  8.,  8.,  8.,  8.,  8.,  8.,  8.,  8.,  8.,  8.,  8.,  8.,\n",
      "          8.,  8.,  8.,  8.,  8.,  8.,  8.,  8.,  8.,  8.,  8.,  8.,  8.,  8.,\n",
      "          8.,  8.,  8.,  8.],\n",
      "        [ 9.,  9.,  9.,  9.,  9.,  9.,  9.,  9.,  9.,  9.,  9.,  9.,  9.,  9.,\n",
      "          9.,  9.,  9.,  9.,  9.,  9.,  9.,  9.,  9.,  9.,  9.,  9.,  9.,  9.,\n",
      "          9.,  9.,  9.,  9.],\n",
      "        [10., 10., 10., 10., 10., 10., 10., 10., 10., 10., 10., 10., 10., 10.,\n",
      "         10., 10., 10., 10., 10., 10., 10., 10., 10., 10., 10., 10., 10., 10.,\n",
      "         10., 10., 10., 10.],\n",
      "        [11., 11., 11., 11., 11., 11., 11., 11., 11., 11., 11., 11., 11., 11.,\n",
      "         11., 11., 11., 11., 11., 11., 11., 11., 11., 11., 11., 11., 11., 11.,\n",
      "         11., 11., 11., 11.],\n",
      "        [12., 12., 12., 12., 12., 12., 12., 12., 12., 12., 12., 12., 12., 12.,\n",
      "         12., 12., 12., 12., 12., 12., 12., 12., 12., 12., 12., 12., 12., 12.,\n",
      "         12., 12., 12., 12.],\n",
      "        [13., 13., 13., 13., 13., 13., 13., 13., 13., 13., 13., 13., 13., 13.,\n",
      "         13., 13., 13., 13., 13., 13., 13., 13., 13., 13., 13., 13., 13., 13.,\n",
      "         13., 13., 13., 13.],\n",
      "        [14., 14., 14., 14., 14., 14., 14., 14., 14., 14., 14., 14., 14., 14.,\n",
      "         14., 14., 14., 14., 14., 14., 14., 14., 14., 14., 14., 14., 14., 14.,\n",
      "         14., 14., 14., 14.],\n",
      "        [15., 15., 15., 15., 15., 15., 15., 15., 15., 15., 15., 15., 15., 15.,\n",
      "         15., 15., 15., 15., 15., 15., 15., 15., 15., 15., 15., 15., 15., 15.,\n",
      "         15., 15., 15., 15.],\n",
      "        [16., 16., 16., 16., 16., 16., 16., 16., 16., 16., 16., 16., 16., 16.,\n",
      "         16., 16., 16., 16., 16., 16., 16., 16., 16., 16., 16., 16., 16., 16.,\n",
      "         16., 16., 16., 16.],\n",
      "        [17., 17., 17., 17., 17., 17., 17., 17., 17., 17., 17., 17., 17., 17.,\n",
      "         17., 17., 17., 17., 17., 17., 17., 17., 17., 17., 17., 17., 17., 17.,\n",
      "         17., 17., 17., 17.],\n",
      "        [18., 18., 18., 18., 18., 18., 18., 18., 18., 18., 18., 18., 18., 18.,\n",
      "         18., 18., 18., 18., 18., 18., 18., 18., 18., 18., 18., 18., 18., 18.,\n",
      "         18., 18., 18., 18.],\n",
      "        [19., 19., 19., 19., 19., 19., 19., 19., 19., 19., 19., 19., 19., 19.,\n",
      "         19., 19., 19., 19., 19., 19., 19., 19., 19., 19., 19., 19., 19., 19.,\n",
      "         19., 19., 19., 19.]])\n"
     ]
    }
   ],
   "source": [
    "print(f2.shape)\n",
    "print(f*f2)"
   ]
  },
  {
   "cell_type": "code",
   "execution_count": 48,
   "metadata": {},
   "outputs": [],
   "source": [
    "c = nn.Conv1d(1,1,63)\n",
    "t = th.rand(20,63)"
   ]
  },
  {
   "cell_type": "code",
   "execution_count": 52,
   "metadata": {},
   "outputs": [
    {
     "ename": "NotImplementedError",
     "evalue": "",
     "output_type": "error",
     "traceback": [
      "\u001b[1;31m---------------------------------------------------------------------------\u001b[0m",
      "\u001b[1;31mNotImplementedError\u001b[0m                       Traceback (most recent call last)",
      "\u001b[1;32m<ipython-input-52-51e85fb13c43>\u001b[0m in \u001b[0;36m<module>\u001b[1;34m\u001b[0m\n\u001b[0;32m      3\u001b[0m     \u001b[0mti\u001b[0m\u001b[1;33m=\u001b[0m\u001b[0mti\u001b[0m\u001b[1;33m.\u001b[0m\u001b[0mview\u001b[0m\u001b[1;33m(\u001b[0m\u001b[1;36m1\u001b[0m\u001b[1;33m,\u001b[0m\u001b[1;36m1\u001b[0m\u001b[1;33m,\u001b[0m\u001b[1;33m-\u001b[0m\u001b[1;36m1\u001b[0m\u001b[1;33m)\u001b[0m\u001b[1;33m\u001b[0m\u001b[1;33m\u001b[0m\u001b[0m\n\u001b[0;32m      4\u001b[0m \u001b[1;33m\u001b[0m\u001b[0m\n\u001b[1;32m----> 5\u001b[1;33m     \u001b[0mprint\u001b[0m\u001b[1;33m(\u001b[0m\u001b[0mconvList\u001b[0m\u001b[1;33m(\u001b[0m\u001b[0mti\u001b[0m\u001b[1;33m)\u001b[0m\u001b[1;33m.\u001b[0m\u001b[0mshape\u001b[0m\u001b[1;33m)\u001b[0m\u001b[1;33m\u001b[0m\u001b[1;33m\u001b[0m\u001b[0m\n\u001b[0m",
      "\u001b[1;32m~\\Anaconda3\\lib\\site-packages\\torch\\nn\\modules\\module.py\u001b[0m in \u001b[0;36m__call__\u001b[1;34m(self, *input, **kwargs)\u001b[0m\n\u001b[0;32m    487\u001b[0m             \u001b[0mresult\u001b[0m \u001b[1;33m=\u001b[0m \u001b[0mself\u001b[0m\u001b[1;33m.\u001b[0m\u001b[0m_slow_forward\u001b[0m\u001b[1;33m(\u001b[0m\u001b[1;33m*\u001b[0m\u001b[0minput\u001b[0m\u001b[1;33m,\u001b[0m \u001b[1;33m**\u001b[0m\u001b[0mkwargs\u001b[0m\u001b[1;33m)\u001b[0m\u001b[1;33m\u001b[0m\u001b[1;33m\u001b[0m\u001b[0m\n\u001b[0;32m    488\u001b[0m         \u001b[1;32melse\u001b[0m\u001b[1;33m:\u001b[0m\u001b[1;33m\u001b[0m\u001b[1;33m\u001b[0m\u001b[0m\n\u001b[1;32m--> 489\u001b[1;33m             \u001b[0mresult\u001b[0m \u001b[1;33m=\u001b[0m \u001b[0mself\u001b[0m\u001b[1;33m.\u001b[0m\u001b[0mforward\u001b[0m\u001b[1;33m(\u001b[0m\u001b[1;33m*\u001b[0m\u001b[0minput\u001b[0m\u001b[1;33m,\u001b[0m \u001b[1;33m**\u001b[0m\u001b[0mkwargs\u001b[0m\u001b[1;33m)\u001b[0m\u001b[1;33m\u001b[0m\u001b[1;33m\u001b[0m\u001b[0m\n\u001b[0m\u001b[0;32m    490\u001b[0m         \u001b[1;32mfor\u001b[0m \u001b[0mhook\u001b[0m \u001b[1;32min\u001b[0m \u001b[0mself\u001b[0m\u001b[1;33m.\u001b[0m\u001b[0m_forward_hooks\u001b[0m\u001b[1;33m.\u001b[0m\u001b[0mvalues\u001b[0m\u001b[1;33m(\u001b[0m\u001b[1;33m)\u001b[0m\u001b[1;33m:\u001b[0m\u001b[1;33m\u001b[0m\u001b[1;33m\u001b[0m\u001b[0m\n\u001b[0;32m    491\u001b[0m             \u001b[0mhook_result\u001b[0m \u001b[1;33m=\u001b[0m \u001b[0mhook\u001b[0m\u001b[1;33m(\u001b[0m\u001b[0mself\u001b[0m\u001b[1;33m,\u001b[0m \u001b[0minput\u001b[0m\u001b[1;33m,\u001b[0m \u001b[0mresult\u001b[0m\u001b[1;33m)\u001b[0m\u001b[1;33m\u001b[0m\u001b[1;33m\u001b[0m\u001b[0m\n",
      "\u001b[1;32m~\\Anaconda3\\lib\\site-packages\\torch\\nn\\modules\\module.py\u001b[0m in \u001b[0;36mforward\u001b[1;34m(self, *input)\u001b[0m\n\u001b[0;32m     83\u001b[0m             \u001b[0mregistered\u001b[0m \u001b[0mhooks\u001b[0m \u001b[1;32mwhile\u001b[0m \u001b[0mthe\u001b[0m \u001b[0mlatter\u001b[0m \u001b[0msilently\u001b[0m \u001b[0mignores\u001b[0m \u001b[0mthem\u001b[0m\u001b[1;33m.\u001b[0m\u001b[1;33m\u001b[0m\u001b[1;33m\u001b[0m\u001b[0m\n\u001b[0;32m     84\u001b[0m         \"\"\"\n\u001b[1;32m---> 85\u001b[1;33m         \u001b[1;32mraise\u001b[0m \u001b[0mNotImplementedError\u001b[0m\u001b[1;33m\u001b[0m\u001b[1;33m\u001b[0m\u001b[0m\n\u001b[0m\u001b[0;32m     86\u001b[0m \u001b[1;33m\u001b[0m\u001b[0m\n\u001b[0;32m     87\u001b[0m     \u001b[1;32mdef\u001b[0m \u001b[0mregister_buffer\u001b[0m\u001b[1;33m(\u001b[0m\u001b[0mself\u001b[0m\u001b[1;33m,\u001b[0m \u001b[0mname\u001b[0m\u001b[1;33m,\u001b[0m \u001b[0mtensor\u001b[0m\u001b[1;33m)\u001b[0m\u001b[1;33m:\u001b[0m\u001b[1;33m\u001b[0m\u001b[1;33m\u001b[0m\u001b[0m\n",
      "\u001b[1;31mNotImplementedError\u001b[0m: "
     ]
    }
   ],
   "source": [
    "for ti in t:\n",
    "    \n",
    "    ti=ti.view(1,1,-1)\n",
    "    \n",
    "    print(convList(ti).shape)"
   ]
  },
  {
   "cell_type": "code",
   "execution_count": 54,
   "metadata": {},
   "outputs": [
    {
     "name": "stdout",
     "output_type": "stream",
     "text": [
      "0 Conv1d(1, 1, kernel_size=(4,), stride=(1,))\n",
      "1 Conv1d(1, 1, kernel_size=(4,), stride=(1,))\n",
      "2 Conv1d(1, 1, kernel_size=(4,), stride=(1,))\n",
      "3 Conv1d(1, 1, kernel_size=(4,), stride=(1,))\n",
      "4 Conv1d(1, 1, kernel_size=(4,), stride=(1,))\n",
      "5 Conv1d(1, 1, kernel_size=(4,), stride=(1,))\n",
      "6 Conv1d(1, 1, kernel_size=(4,), stride=(1,))\n",
      "7 Conv1d(1, 1, kernel_size=(4,), stride=(1,))\n",
      "8 Conv1d(1, 1, kernel_size=(4,), stride=(1,))\n",
      "9 Conv1d(1, 1, kernel_size=(4,), stride=(1,))\n",
      "10 Conv1d(1, 1, kernel_size=(4,), stride=(1,))\n",
      "11 Conv1d(1, 1, kernel_size=(4,), stride=(1,))\n",
      "12 Conv1d(1, 1, kernel_size=(4,), stride=(1,))\n",
      "13 Conv1d(1, 1, kernel_size=(4,), stride=(1,))\n",
      "14 Conv1d(1, 1, kernel_size=(4,), stride=(1,))\n",
      "15 Conv1d(1, 1, kernel_size=(4,), stride=(1,))\n",
      "16 Conv1d(1, 1, kernel_size=(4,), stride=(1,))\n",
      "17 Conv1d(1, 1, kernel_size=(4,), stride=(1,))\n",
      "18 Conv1d(1, 1, kernel_size=(4,), stride=(1,))\n"
     ]
    }
   ],
   "source": [
    "for i, c in enumerate(convList):\n",
    "    print(i, c)"
   ]
  },
  {
   "cell_type": "code",
   "execution_count": null,
   "metadata": {},
   "outputs": [],
   "source": []
  }
 ],
 "metadata": {
  "kernelspec": {
   "display_name": "Python 3",
   "language": "python",
   "name": "python3"
  },
  "language_info": {
   "codemirror_mode": {
    "name": "ipython",
    "version": 3
   },
   "file_extension": ".py",
   "mimetype": "text/x-python",
   "name": "python",
   "nbconvert_exporter": "python",
   "pygments_lexer": "ipython3",
   "version": "3.7.3"
  }
 },
 "nbformat": 4,
 "nbformat_minor": 2
}
